{
 "cells": [
  {
   "cell_type": "code",
   "execution_count": 3,
   "id": "3b2d443f",
   "metadata": {},
   "outputs": [],
   "source": [
    "import pandas as pd"
   ]
  },
  {
   "cell_type": "code",
   "execution_count": 5,
   "id": "854581a2",
   "metadata": {},
   "outputs": [],
   "source": [
    "df = pd.read_csv('Resources/purchase_data.csv')"
   ]
  },
  {
   "cell_type": "code",
   "execution_count": 19,
   "id": "423ff06a",
   "metadata": {},
   "outputs": [],
   "source": [
    "Players_count = df['SN'].count()"
   ]
  },
  {
   "cell_type": "code",
   "execution_count": 20,
   "id": "073237ce",
   "metadata": {},
   "outputs": [
    {
     "data": {
      "text/plain": [
       "780"
      ]
     },
     "execution_count": 20,
     "metadata": {},
     "output_type": "execute_result"
    }
   ],
   "source": [
    "Players_count"
   ]
  },
  {
   "cell_type": "code",
   "execution_count": 42,
   "id": "f9b428c4",
   "metadata": {},
   "outputs": [],
   "source": [
    "Unique_Item_Count = len(df['Item Name'].unique())"
   ]
  },
  {
   "cell_type": "code",
   "execution_count": 43,
   "id": "8f17969c",
   "metadata": {},
   "outputs": [
    {
     "data": {
      "text/plain": [
       "179"
      ]
     },
     "execution_count": 43,
     "metadata": {},
     "output_type": "execute_result"
    }
   ],
   "source": [
    "Unique_Item_Count"
   ]
  },
  {
   "cell_type": "code",
   "execution_count": null,
   "id": "58ac1840",
   "metadata": {},
   "outputs": [],
   "source": []
  }
 ],
 "metadata": {
  "kernelspec": {
   "display_name": "Python 3",
   "language": "python",
   "name": "python3"
  },
  "language_info": {
   "codemirror_mode": {
    "name": "ipython",
    "version": 3
   },
   "file_extension": ".py",
   "mimetype": "text/x-python",
   "name": "python",
   "nbconvert_exporter": "python",
   "pygments_lexer": "ipython3",
   "version": "3.6.10"
  }
 },
 "nbformat": 4,
 "nbformat_minor": 5
}
