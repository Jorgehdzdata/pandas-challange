{
 "cells": [
  {
   "cell_type": "code",
   "execution_count": 49,
   "id": "c0d1b69b",
   "metadata": {},
   "outputs": [],
   "source": [
    "import pandas as pd"
   ]
  },
  {
   "cell_type": "code",
   "execution_count": 51,
   "id": "b3ecbd92",
   "metadata": {},
   "outputs": [
    {
     "data": {
      "text/html": [
       "<div>\n",
       "<style scoped>\n",
       "    .dataframe tbody tr th:only-of-type {\n",
       "        vertical-align: middle;\n",
       "    }\n",
       "\n",
       "    .dataframe tbody tr th {\n",
       "        vertical-align: top;\n",
       "    }\n",
       "\n",
       "    .dataframe thead th {\n",
       "        text-align: right;\n",
       "    }\n",
       "</style>\n",
       "<table border=\"1\" class=\"dataframe\">\n",
       "  <thead>\n",
       "    <tr style=\"text-align: right;\">\n",
       "      <th></th>\n",
       "      <th>Purchase ID</th>\n",
       "      <th>SN</th>\n",
       "      <th>Age</th>\n",
       "      <th>Gender</th>\n",
       "      <th>Item ID</th>\n",
       "      <th>Item Name</th>\n",
       "      <th>Price</th>\n",
       "    </tr>\n",
       "  </thead>\n",
       "  <tbody>\n",
       "    <tr>\n",
       "      <th>0</th>\n",
       "      <td>0</td>\n",
       "      <td>Lisim78</td>\n",
       "      <td>20</td>\n",
       "      <td>Male</td>\n",
       "      <td>108</td>\n",
       "      <td>Extraction, Quickblade Of Trembling Hands</td>\n",
       "      <td>3.53</td>\n",
       "    </tr>\n",
       "    <tr>\n",
       "      <th>1</th>\n",
       "      <td>1</td>\n",
       "      <td>Lisovynya38</td>\n",
       "      <td>40</td>\n",
       "      <td>Male</td>\n",
       "      <td>143</td>\n",
       "      <td>Frenzied Scimitar</td>\n",
       "      <td>1.56</td>\n",
       "    </tr>\n",
       "    <tr>\n",
       "      <th>2</th>\n",
       "      <td>2</td>\n",
       "      <td>Ithergue48</td>\n",
       "      <td>24</td>\n",
       "      <td>Male</td>\n",
       "      <td>92</td>\n",
       "      <td>Final Critic</td>\n",
       "      <td>4.88</td>\n",
       "    </tr>\n",
       "    <tr>\n",
       "      <th>3</th>\n",
       "      <td>3</td>\n",
       "      <td>Chamassasya86</td>\n",
       "      <td>24</td>\n",
       "      <td>Male</td>\n",
       "      <td>100</td>\n",
       "      <td>Blindscythe</td>\n",
       "      <td>3.27</td>\n",
       "    </tr>\n",
       "    <tr>\n",
       "      <th>4</th>\n",
       "      <td>4</td>\n",
       "      <td>Iskosia90</td>\n",
       "      <td>23</td>\n",
       "      <td>Male</td>\n",
       "      <td>131</td>\n",
       "      <td>Fury</td>\n",
       "      <td>1.44</td>\n",
       "    </tr>\n",
       "    <tr>\n",
       "      <th>...</th>\n",
       "      <td>...</td>\n",
       "      <td>...</td>\n",
       "      <td>...</td>\n",
       "      <td>...</td>\n",
       "      <td>...</td>\n",
       "      <td>...</td>\n",
       "      <td>...</td>\n",
       "    </tr>\n",
       "    <tr>\n",
       "      <th>775</th>\n",
       "      <td>775</td>\n",
       "      <td>Aethedru70</td>\n",
       "      <td>21</td>\n",
       "      <td>Female</td>\n",
       "      <td>60</td>\n",
       "      <td>Wolf</td>\n",
       "      <td>3.54</td>\n",
       "    </tr>\n",
       "    <tr>\n",
       "      <th>776</th>\n",
       "      <td>776</td>\n",
       "      <td>Iral74</td>\n",
       "      <td>21</td>\n",
       "      <td>Male</td>\n",
       "      <td>164</td>\n",
       "      <td>Exiled Doomblade</td>\n",
       "      <td>1.63</td>\n",
       "    </tr>\n",
       "    <tr>\n",
       "      <th>777</th>\n",
       "      <td>777</td>\n",
       "      <td>Yathecal72</td>\n",
       "      <td>20</td>\n",
       "      <td>Male</td>\n",
       "      <td>67</td>\n",
       "      <td>Celeste, Incarnation of the Corrupted</td>\n",
       "      <td>3.46</td>\n",
       "    </tr>\n",
       "    <tr>\n",
       "      <th>778</th>\n",
       "      <td>778</td>\n",
       "      <td>Sisur91</td>\n",
       "      <td>7</td>\n",
       "      <td>Male</td>\n",
       "      <td>92</td>\n",
       "      <td>Final Critic</td>\n",
       "      <td>4.19</td>\n",
       "    </tr>\n",
       "    <tr>\n",
       "      <th>779</th>\n",
       "      <td>779</td>\n",
       "      <td>Ennrian78</td>\n",
       "      <td>24</td>\n",
       "      <td>Male</td>\n",
       "      <td>50</td>\n",
       "      <td>Dawn</td>\n",
       "      <td>4.60</td>\n",
       "    </tr>\n",
       "  </tbody>\n",
       "</table>\n",
       "<p>780 rows × 7 columns</p>\n",
       "</div>"
      ],
      "text/plain": [
       "     Purchase ID             SN  Age  Gender  Item ID  \\\n",
       "0              0        Lisim78   20    Male      108   \n",
       "1              1    Lisovynya38   40    Male      143   \n",
       "2              2     Ithergue48   24    Male       92   \n",
       "3              3  Chamassasya86   24    Male      100   \n",
       "4              4      Iskosia90   23    Male      131   \n",
       "..           ...            ...  ...     ...      ...   \n",
       "775          775     Aethedru70   21  Female       60   \n",
       "776          776         Iral74   21    Male      164   \n",
       "777          777     Yathecal72   20    Male       67   \n",
       "778          778        Sisur91    7    Male       92   \n",
       "779          779      Ennrian78   24    Male       50   \n",
       "\n",
       "                                     Item Name  Price  \n",
       "0    Extraction, Quickblade Of Trembling Hands   3.53  \n",
       "1                            Frenzied Scimitar   1.56  \n",
       "2                                 Final Critic   4.88  \n",
       "3                                  Blindscythe   3.27  \n",
       "4                                         Fury   1.44  \n",
       "..                                         ...    ...  \n",
       "775                                       Wolf   3.54  \n",
       "776                           Exiled Doomblade   1.63  \n",
       "777      Celeste, Incarnation of the Corrupted   3.46  \n",
       "778                               Final Critic   4.19  \n",
       "779                                       Dawn   4.60  \n",
       "\n",
       "[780 rows x 7 columns]"
      ]
     },
     "execution_count": 51,
     "metadata": {},
     "output_type": "execute_result"
    }
   ],
   "source": [
    "df = pd.read_csv('Resources/purchase_data.csv')\n",
    "df"
   ]
  },
  {
   "cell_type": "code",
   "execution_count": 4,
   "id": "1b4967ce",
   "metadata": {},
   "outputs": [],
   "source": [
    "Players_cnt = df['SN'].count()"
   ]
  },
  {
   "cell_type": "code",
   "execution_count": 5,
   "id": "dce99997",
   "metadata": {},
   "outputs": [],
   "source": [
    "Unique_Item_Cnt = len(df['Item Name'].unique())"
   ]
  },
  {
   "cell_type": "code",
   "execution_count": 6,
   "id": "7079ce57",
   "metadata": {},
   "outputs": [],
   "source": [
    "Average_Purchase_Price = df['Price'].mean()"
   ]
  },
  {
   "cell_type": "code",
   "execution_count": 7,
   "id": "b49c5853",
   "metadata": {},
   "outputs": [],
   "source": [
    "Total_Purchases = df['Purchase ID'].count()"
   ]
  },
  {
   "cell_type": "code",
   "execution_count": 8,
   "id": "32f134fa",
   "metadata": {},
   "outputs": [],
   "source": [
    "Total_Revenue = df['Price'].sum()"
   ]
  },
  {
   "cell_type": "code",
   "execution_count": 9,
   "id": "7a36a354",
   "metadata": {},
   "outputs": [],
   "source": [
    "Male_Players = df.loc[(df[\"Gender\"] == \"Male\"), \"Gender\":\"Gender\" ].count()"
   ]
  },
  {
   "cell_type": "code",
   "execution_count": 10,
   "id": "bd1524f6",
   "metadata": {},
   "outputs": [],
   "source": [
    "Percent_Male = round(Male_Players / (df['Gender'].count()) * 100 , (2))"
   ]
  },
  {
   "cell_type": "code",
   "execution_count": 11,
   "id": "34d04689",
   "metadata": {},
   "outputs": [],
   "source": [
    "Female_Players = df.loc[(df[\"Gender\"] == \"Female\"), \"Gender\":\"Gender\" ].count()"
   ]
  },
  {
   "cell_type": "code",
   "execution_count": 12,
   "id": "33005d7f",
   "metadata": {},
   "outputs": [],
   "source": [
    "Percent_Female = round(Female_Players / (df['Gender'].count()) * 100 , (2))"
   ]
  },
  {
   "cell_type": "code",
   "execution_count": 13,
   "id": "a3c3d682",
   "metadata": {},
   "outputs": [],
   "source": [
    "Other_Players = df.loc[(df[\"Gender\"] == \"Other / Non-Disclosed\"), \"Gender\":\"Gender\" ].count()"
   ]
  },
  {
   "cell_type": "code",
   "execution_count": 14,
   "id": "05abfbbc",
   "metadata": {},
   "outputs": [],
   "source": [
    "Percent_Other = round(Other_Players / (df['Gender'].count()) * 100, (2))"
   ]
  },
  {
   "cell_type": "code",
   "execution_count": 15,
   "id": "48a29309",
   "metadata": {},
   "outputs": [],
   "source": [
    "Purchase_Group = df.groupby('Gender')"
   ]
  },
  {
   "cell_type": "code",
   "execution_count": 16,
   "id": "33d44876",
   "metadata": {},
   "outputs": [],
   "source": [
    "Grp_Prchs_Cnt = Purchase_Group['Purchase ID'].count()"
   ]
  },
  {
   "cell_type": "code",
   "execution_count": 17,
   "id": "77ed7894",
   "metadata": {},
   "outputs": [],
   "source": [
    "Grp_Avg_Prchs_Prc = Purchase_Group['Price'].mean()"
   ]
  },
  {
   "cell_type": "code",
   "execution_count": 18,
   "id": "34aa50cd",
   "metadata": {},
   "outputs": [],
   "source": [
    "Grp_Ttl_Prchs_Val = Purchase_Group['Price'].sum()"
   ]
  },
  {
   "cell_type": "code",
   "execution_count": 19,
   "id": "0a0fc714",
   "metadata": {},
   "outputs": [],
   "source": [
    "Purchase_Group = df.groupby(['Gender', 'SN'])"
   ]
  },
  {
   "cell_type": "code",
   "execution_count": 20,
   "id": "585f3ba2-fa51-43b4-84f9-6e2fcfdec4d1",
   "metadata": {},
   "outputs": [],
   "source": [
    "max_age = df['Age'].max()"
   ]
  },
  {
   "cell_type": "code",
   "execution_count": 22,
   "id": "c3d65df9-918f-46ab-aa6d-1553a7bd14f7",
   "metadata": {},
   "outputs": [],
   "source": [
    "min_age = df['Age'].min()"
   ]
  },
  {
   "cell_type": "code",
   "execution_count": 25,
   "id": "62a37762-620a-43b8-8697-dda1d4bbe9b4",
   "metadata": {},
   "outputs": [],
   "source": [
    "bins = [7,11,15,19,23,27,31,35,39,43,47]"
   ]
  },
  {
   "cell_type": "code",
   "execution_count": 60,
   "id": "b5517657",
   "metadata": {},
   "outputs": [],
   "source": [
    "df[\"Age Demographics\"] = pd.cut(df[\"Age\"], bins , include_lowest=True)\n",
    "Purchase_Cnt_Age = df.groupby('Age Demographics')['Price'].count()"
   ]
  },
  {
   "cell_type": "code",
   "execution_count": 61,
   "id": "a8569d3f-991e-4775-82fe-0f0a8f547e90",
   "metadata": {},
   "outputs": [],
   "source": [
    "Avg_Purchase_cnt_Age = df.groupby('Age Demographics')['Price'].mean()"
   ]
  },
  {
   "cell_type": "code",
   "execution_count": 85,
   "id": "ca8127a5-6b16-4570-96b3-dd84603b1bc0",
   "metadata": {},
   "outputs": [],
   "source": [
    "Total_Purch_Value_Age = df.groupby('Age Demographics')['Price'].sum()"
   ]
  },
  {
   "cell_type": "code",
   "execution_count": 104,
   "id": "fc901083-2af6-4e22-b43e-67908348b420",
   "metadata": {},
   "outputs": [],
   "source": [
    "Avg_Purch_Total_Persn_Age = df.groupby(['Age Demographics' , 'SN'])['Price'].sum()"
   ]
  },
  {
   "cell_type": "code",
   "execution_count": 117,
   "id": "28727aab-ae17-4d36-9289-af645b0e0e42",
   "metadata": {},
   "outputs": [
    {
     "data": {
      "text/plain": [
       "SN\n",
       "Adairialis76     2.28\n",
       "Adastirin33      4.48\n",
       "Aeda94           4.91\n",
       "Aela59           4.32\n",
       "Aelaria33        1.79\n",
       "                 ... \n",
       "Yathecal82       6.22\n",
       "Yathedeu43       6.02\n",
       "Yoishirrala98    4.58\n",
       "Zhisrisu83       7.89\n",
       "Zontibe81        8.03\n",
       "Name: Price, Length: 576, dtype: float64"
      ]
     },
     "execution_count": 117,
     "metadata": {},
     "output_type": "execute_result"
    }
   ],
   "source": [
    "Group_Spenders = df.groupby('SN')['Price'].sum()\n",
    "Group_Spenders"
   ]
  },
  {
   "cell_type": "code",
   "execution_count": 125,
   "id": "fb5a07f0",
   "metadata": {},
   "outputs": [
    {
     "ename": "TypeError",
     "evalue": "nlargest() got multiple values for argument 'keep'",
     "output_type": "error",
     "traceback": [
      "\u001b[1;31m---------------------------------------------------------------------------\u001b[0m",
      "\u001b[1;31mTypeError\u001b[0m                                 Traceback (most recent call last)",
      "\u001b[1;32m<ipython-input-125-3584e78ed40c>\u001b[0m in \u001b[0;36m<module>\u001b[1;34m\u001b[0m\n\u001b[1;32m----> 1\u001b[1;33m \u001b[0mTop_5_Spenders\u001b[0m \u001b[1;33m=\u001b[0m \u001b[0mGroup_Spenders\u001b[0m\u001b[1;33m.\u001b[0m\u001b[0mnlargest\u001b[0m\u001b[1;33m(\u001b[0m\u001b[1;36m100\u001b[0m\u001b[1;33m,\u001b[0m \u001b[1;34m'SN'\u001b[0m\u001b[1;33m,\u001b[0m \u001b[0mkeep\u001b[0m\u001b[1;33m=\u001b[0m\u001b[1;34m'all'\u001b[0m \u001b[1;33m)\u001b[0m\u001b[1;33m\u001b[0m\u001b[1;33m\u001b[0m\u001b[0m\n\u001b[0m",
      "\u001b[1;31mTypeError\u001b[0m: nlargest() got multiple values for argument 'keep'"
     ]
    }
   ],
   "source": [
    "Top_5_Spenders = Group_Spenders.nlargest(5, '', keep='all' )\n"
   ]
  },
  {
   "cell_type": "code",
   "execution_count": 107,
   "id": "fba39af7",
   "metadata": {},
   "outputs": [],
   "source": [
    "Purchase_Top_5 = df.nlargest"
   ]
  },
  {
   "cell_type": "code",
   "execution_count": 58,
   "id": "8c6b1c3a",
   "metadata": {},
   "outputs": [
    {
     "ename": "AttributeError",
     "evalue": "'function' object has no attribute 'head'",
     "output_type": "error",
     "traceback": [
      "\u001b[1;31m---------------------------------------------------------------------------\u001b[0m",
      "\u001b[1;31mAttributeError\u001b[0m                            Traceback (most recent call last)",
      "\u001b[1;32m<ipython-input-58-888f3135655e>\u001b[0m in \u001b[0;36m<module>\u001b[1;34m\u001b[0m\n\u001b[1;32m----> 1\u001b[1;33m \u001b[0mPurchase_Top_5\u001b[0m\u001b[1;33m.\u001b[0m\u001b[0mhead\u001b[0m\u001b[1;33m(\u001b[0m\u001b[1;33m)\u001b[0m\u001b[1;33m\u001b[0m\u001b[1;33m\u001b[0m\u001b[0m\n\u001b[0m",
      "\u001b[1;31mAttributeError\u001b[0m: 'function' object has no attribute 'head'"
     ]
    }
   ],
   "source": [
    "Purchase_Top_5.head()"
   ]
  },
  {
   "cell_type": "code",
   "execution_count": null,
   "id": "1a89d83f",
   "metadata": {},
   "outputs": [],
   "source": []
  }
 ],
 "metadata": {
  "kernelspec": {
   "display_name": "Python 3",
   "language": "python",
   "name": "python3"
  },
  "language_info": {
   "codemirror_mode": {
    "name": "ipython",
    "version": 3
   },
   "file_extension": ".py",
   "mimetype": "text/x-python",
   "name": "python",
   "nbconvert_exporter": "python",
   "pygments_lexer": "ipython3",
   "version": "3.6.10"
  },
  "toc-showtags": true
 },
 "nbformat": 4,
 "nbformat_minor": 5
}
